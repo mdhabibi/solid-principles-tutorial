{
  "cells": [
    {
      "cell_type": "markdown",
      "metadata": {},
      "source": [
        "# 📘 Single Responsibility Principle (SRP)\n",
        "\n",
        "## Definition\n",
        "\n",
        "**A class should have only one reason to change.**\n",
        "\n",
        "This means each class should **do one job well** instead of mixing multiple responsibilities. When a class has multiple responsibilities, it becomes harder to maintain, test, and understand.\n",
        "\n",
        "## Why SRP Matters\n",
        "\n",
        "- **Easier to maintain**: Changes to one responsibility don't affect others\n",
        "- **Better testability**: You can test each responsibility independently\n",
        "- **Improved readability**: Clear, focused classes are easier to understand\n",
        "- **Reduced coupling**: Classes with single responsibilities have fewer dependencies\n"
      ]
    },
    {
      "cell_type": "markdown",
      "metadata": {},
      "source": [
        "## ❌ Bad Example (Violates SRP)\n",
        "\n",
        "Let's look at a class that violates the Single Responsibility Principle:\n"
      ]
    },
    {
      "cell_type": "code",
      "execution_count": 1,
      "metadata": {},
      "outputs": [
        {
          "name": "stdout",
          "output_type": "stream",
          "text": [
            "Total area: 43\n",
            "Sending area report to admin@example.com\n"
          ]
        }
      ],
      "source": [
        "class ShapeManager:\n",
        "    def __init__(self, shapes):\n",
        "        self.shapes = shapes\n",
        "\n",
        "    def calculate_total_area(self):\n",
        "        # Responsibility 1: Calculate areas\n",
        "        return sum([shape['width'] * shape['height'] for shape in self.shapes])\n",
        "\n",
        "    def save_to_file(self, filename):\n",
        "        # Responsibility 2: Save shapes to a file\n",
        "        with open(filename, \"w\") as f:\n",
        "            f.write(str(self.shapes))\n",
        "    \n",
        "    def send_email_report(self, email):\n",
        "        # Responsibility 3: Send email notifications\n",
        "        print(f\"Sending area report to {email}\")\n",
        "        # Email sending logic would go here\n",
        "\n",
        "# Example usage\n",
        "shapes = [\n",
        "    {'width': 5, 'height': 3},\n",
        "    {'width': 4, 'height': 4},\n",
        "    {'width': 2, 'height': 6}\n",
        "]\n",
        "\n",
        "manager = ShapeManager(shapes)\n",
        "print(\"Total area:\", manager.calculate_total_area())\n",
        "manager.save_to_file(\"shapes.txt\")\n",
        "manager.send_email_report(\"admin@example.com\")\n"
      ]
    },
    {
      "cell_type": "markdown",
      "metadata": {},
      "source": [
        "### 🔴 Why is this bad?\n",
        "\n",
        "The `ShapeManager` class violates SRP because it has **multiple reasons to change**:\n",
        "\n",
        "1. **Business logic changes**: If we need to change how areas are calculated\n",
        "2. **File format changes**: If we need to save in JSON, XML, or database instead of plain text\n",
        "3. **Email service changes**: If we need to use a different email provider or format\n",
        "4. **Notification method changes**: If we need to send SMS or push notifications instead of email\n",
        "\n",
        "**Problems:**\n",
        "- Hard to test individual responsibilities\n",
        "- Changes in one area can break others\n",
        "- Difficult to reuse individual components\n",
        "- Violates the principle of separation of concerns\n"
      ]
    },
    {
      "cell_type": "markdown",
      "metadata": {},
      "source": [
        "## ✅ Good Example (Follows SRP)\n",
        "\n",
        "Now let's refactor this into separate classes, each with a single responsibility:\n"
      ]
    },
    {
      "cell_type": "code",
      "execution_count": 2,
      "metadata": {},
      "outputs": [],
      "source": [
        "class Rectangle:\n",
        "    \"\"\"Represents a rectangle shape with width and height.\"\"\"\n",
        "    def __init__(self, width, height):\n",
        "        self.width = width\n",
        "        self.height = height\n",
        "    \n",
        "    def area(self):\n",
        "        return self.width * self.height\n",
        "\n",
        "\n",
        "class AreaCalculator:\n",
        "    \"\"\"Responsible only for calculating areas of shapes.\"\"\"\n",
        "    def __init__(self, shapes):\n",
        "        self.shapes = shapes\n",
        "\n",
        "    def total_area(self):\n",
        "        return sum([shape.area() for shape in self.shapes])\n",
        "\n",
        "\n",
        "class ShapeStorage:\n",
        "    \"\"\"Responsible only for saving shapes to files.\"\"\"\n",
        "    def save_to_file(self, filename, shapes):\n",
        "        with open(filename, \"w\") as f:\n",
        "            f.write(str([(s.width, s.height) for s in shapes]))\n",
        "    \n",
        "    def save_to_json(self, filename, shapes):\n",
        "        import json\n",
        "        data = [{\"width\": s.width, \"height\": s.height} for s in shapes]\n",
        "        with open(filename, \"w\") as f:\n",
        "            json.dump(data, f)\n",
        "\n",
        "\n",
        "class NotificationService:\n",
        "    \"\"\"Responsible only for sending notifications.\"\"\"\n",
        "    def send_email(self, email, message):\n",
        "        print(f\"Sending email to {email}: {message}\")\n",
        "        # Email sending logic would go here\n",
        "    \n",
        "    def send_sms(self, phone, message):\n",
        "        print(f\"Sending SMS to {phone}: {message}\")\n",
        "        # SMS sending logic would go here\n"
      ]
    },
    {
      "cell_type": "code",
      "execution_count": 3,
      "metadata": {},
      "outputs": [
        {
          "name": "stdout",
          "output_type": "stream",
          "text": [
            "Total area: 43\n",
            "Sending email to admin@example.com: Total area calculated: 43\n",
            "Sending SMS to +1234567890: Area report: 43\n"
          ]
        }
      ],
      "source": [
        "# Example usage of the refactored classes\n",
        "shapes = [\n",
        "    Rectangle(5, 3),\n",
        "    Rectangle(4, 4),\n",
        "    Rectangle(2, 6)\n",
        "]\n",
        "\n",
        "# Each class has a single responsibility\n",
        "calculator = AreaCalculator(shapes)\n",
        "storage = ShapeStorage()\n",
        "notifier = NotificationService()\n",
        "\n",
        "# Calculate total area\n",
        "total = calculator.total_area()\n",
        "print(f\"Total area: {total}\")\n",
        "\n",
        "# Save shapes to file\n",
        "storage.save_to_file(\"shapes.txt\", shapes)\n",
        "storage.save_to_json(\"shapes.json\", shapes)\n",
        "\n",
        "# Send notifications\n",
        "notifier.send_email(\"admin@example.com\", f\"Total area calculated: {total}\")\n",
        "notifier.send_sms(\"+1234567890\", f\"Area report: {total}\")\n"
      ]
    },
    {
      "cell_type": "markdown",
      "metadata": {},
      "source": [
        "### 🟢 Why is this good?\n",
        "\n",
        "Each class now has **exactly one reason to change**:\n",
        "\n",
        "1. **`Rectangle`**: Only changes if rectangle properties change\n",
        "2. **`AreaCalculator`**: Only changes if calculation logic changes\n",
        "3. **`ShapeStorage`**: Only changes if storage format changes\n",
        "4. **`NotificationService`**: Only changes if notification method changes\n",
        "\n",
        "**Benefits:**\n",
        "- ✅ **Easy to test**: Each class can be tested independently\n",
        "- ✅ **Easy to maintain**: Changes are isolated to specific classes\n",
        "- ✅ **Reusable**: Each class can be used independently\n",
        "- ✅ **Clear responsibilities**: Each class has a well-defined purpose\n",
        "- ✅ **Flexible**: Easy to swap implementations (e.g., different storage formats)\n"
      ]
    },
    {
      "cell_type": "markdown",
      "metadata": {},
      "source": [
        "## 🧪 Testing Example\n",
        "\n",
        "Let's see how SRP makes testing easier:\n"
      ]
    },
    {
      "cell_type": "code",
      "execution_count": 4,
      "metadata": {},
      "outputs": [
        {
          "name": "stdout",
          "output_type": "stream",
          "text": [
            "Running tests for individual responsibilities:\n",
            "\n",
            "✅ Rectangle area test passed\n",
            "✅ Area calculator test passed\n",
            "✅ Shape storage test passed\n",
            "Sending email to test@example.com: Test message\n",
            "Sending SMS to +1234567890: Test message\n",
            "✅ Notification service test passed\n"
          ]
        }
      ],
      "source": [
        "# Simple test functions to demonstrate testing individual responsibilities\n",
        "def test_rectangle_area():\n",
        "    \"\"\"Test rectangle area calculation.\"\"\"\n",
        "    rect = Rectangle(5, 3)\n",
        "    assert rect.area() == 15, f\"Expected 15, got {rect.area()}\"\n",
        "    print(\"✅ Rectangle area test passed\")\n",
        "\n",
        "def test_area_calculator():\n",
        "    \"\"\"Test total area calculation.\"\"\"\n",
        "    shapes = [Rectangle(2, 3), Rectangle(4, 5)]\n",
        "    calculator = AreaCalculator(shapes)\n",
        "    assert calculator.total_area() == 26, f\"Expected 26, got {calculator.total_area()}\"\n",
        "    print(\"✅ Area calculator test passed\")\n",
        "\n",
        "def test_shape_storage():\n",
        "    \"\"\"Test shape storage functionality.\"\"\"\n",
        "    shapes = [Rectangle(1, 2)]\n",
        "    storage = ShapeStorage()\n",
        "    \n",
        "    # Test file saving (we'll just check it doesn't crash)\n",
        "    try:\n",
        "        storage.save_to_file(\"test_shapes.txt\", shapes)\n",
        "        storage.save_to_json(\"test_shapes.json\", shapes)\n",
        "        print(\"✅ Shape storage test passed\")\n",
        "    except Exception as e:\n",
        "        print(f\"❌ Shape storage test failed: {e}\")\n",
        "\n",
        "def test_notification_service():\n",
        "    \"\"\"Test notification functionality.\"\"\"\n",
        "    notifier = NotificationService()\n",
        "    \n",
        "    # Test that methods don't crash\n",
        "    try:\n",
        "        notifier.send_email(\"test@example.com\", \"Test message\")\n",
        "        notifier.send_sms(\"+1234567890\", \"Test message\")\n",
        "        print(\"✅ Notification service test passed\")\n",
        "    except Exception as e:\n",
        "        print(f\"❌ Notification service test failed: {e}\")\n",
        "\n",
        "# Run all tests\n",
        "print(\"Running tests for individual responsibilities:\\n\")\n",
        "test_rectangle_area()\n",
        "test_area_calculator()\n",
        "test_shape_storage()\n",
        "test_notification_service()\n"
      ]
    },
    {
      "cell_type": "markdown",
      "metadata": {},
      "source": [
        "## 🎯 Key Takeaways\n",
        "\n",
        "### Single Responsibility Principle Summary:\n",
        "\n",
        "1. **One class = One job**: Each class should have only one reason to change\n",
        "2. **Separation of concerns**: Keep different responsibilities in different classes\n",
        "3. **Better maintainability**: Changes are isolated and don't affect other parts\n",
        "4. **Improved testability**: Each responsibility can be tested independently\n",
        "5. **Enhanced reusability**: Classes can be used independently in different contexts\n",
        "\n",
        "### When to apply SRP:\n",
        "- When a class is doing multiple unrelated things\n",
        "- When changes to one feature require changes to unrelated code\n",
        "- When testing becomes complex due to multiple responsibilities\n",
        "- When you find yourself writing \"and\" in class descriptions (e.g., \"This class calculates areas AND saves files AND sends emails\")\n",
        "\n",
        "### Remember:\n",
        "> \"A class should have only one reason to change\" - Robert C. Martin\n"
      ]
    }
  ],
  "metadata": {
    "kernelspec": {
      "display_name": "venv-solid",
      "language": "python",
      "name": "python3"
    },
    "language_info": {
      "codemirror_mode": {
        "name": "ipython",
        "version": 3
      },
      "file_extension": ".py",
      "mimetype": "text/x-python",
      "name": "python",
      "nbconvert_exporter": "python",
      "pygments_lexer": "ipython3",
      "version": "3.13.5"
    }
  },
  "nbformat": 4,
  "nbformat_minor": 2
}
